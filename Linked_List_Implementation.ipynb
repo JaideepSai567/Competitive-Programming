{
  "nbformat": 4,
  "nbformat_minor": 0,
  "metadata": {
    "colab": {
      "provenance": [],
      "authorship_tag": "ABX9TyP6X4KoBkuVRTlWWBLy6s4P",
      "include_colab_link": true
    },
    "kernelspec": {
      "name": "python3",
      "display_name": "Python 3"
    },
    "language_info": {
      "name": "python"
    }
  },
  "cells": [
    {
      "cell_type": "markdown",
      "metadata": {
        "id": "view-in-github",
        "colab_type": "text"
      },
      "source": [
        "<a href=\"https://colab.research.google.com/github/JaideepSai567/Competitive-Programming/blob/main/Linked_List_Implementation.ipynb\" target=\"_parent\"><img src=\"https://colab.research.google.com/assets/colab-badge.svg\" alt=\"Open In Colab\"/></a>"
      ]
    },
    {
      "cell_type": "markdown",
      "source": [
        "Linked list implementation"
      ],
      "metadata": {
        "id": "AAnjS8_zLGIH"
      }
    },
    {
      "cell_type": "code",
      "source": [
        "class Node:\n",
        "    def __init__(self,data):\n",
        "        self.data=data\n",
        "        self.next=None\n",
        "class LinkedList:\n",
        "    def __init__(self):\n",
        "        self.head=None\n",
        "    def append(self,data):\n",
        "        new_node=Node(data)\n",
        "        if not self.head:\n",
        "            self.head=new_node\n",
        "            return\n",
        "        last_node=self.head\n",
        "        while last_node.next:\n",
        "            last_node=last_node.next\n",
        "        last_node.next=new_node\n",
        "    def prepend(self,data):\n",
        "        new_node=Node(data)\n",
        "        new_node.next=self.head\n",
        "        self.head=new_node\n",
        "    def insert_at_position(self,data,position):\n",
        "        if position==0:\n",
        "            self.prepend(data)\n",
        "            return\n",
        "        new_node=Node(data)\n",
        "        current_node=self.head\n",
        "        for _ in range(position-1):\n",
        "            if current_node is None:\n",
        "                print(\"position isout of range\")\n",
        "                return\n",
        "            current_node=current_node.next\n",
        "        if current_node is None:\n",
        "            print(\"position is out of range\")\n",
        "            return\n",
        "        new_node.next=current_node.next\n",
        "        current_node.next=new_node\n",
        "    def delete(self,data):\n",
        "        current_node=self.head\n",
        "        if current_node and current_node.data==data:\n",
        "            self.head=current_node.next\n",
        "            current_node=None\n",
        "            return\n",
        "        prev_node =None\n",
        "        while current_node and current_node.data!=data:\n",
        "            prev_node=current_node\n",
        "            current_node=current_node.next\n",
        "        if current_node is None:\n",
        "            return\n",
        "        prev_node.next = current_node.next\n",
        "        current_node=None\n",
        "    def delete_at_begining(self):\n",
        "        if self.head:\n",
        "            self.head=self.head.next\n",
        "    def delete_at_end(self):\n",
        "        current_node=self.head\n",
        "        if current_node and not current_node.next:\n",
        "            self.head=None\n",
        "            return\n",
        "        prev_node=None\n",
        "        while current_node.next:\n",
        "            prev_node=current_node\n",
        "            current_node=current_node.next\n",
        "        prev_node.next=None\n",
        "    def delete_at_position(self,position):\n",
        "        if position==0:\n",
        "            self.delete_at_begining()\n",
        "            return\n",
        "        current_node=self.head\n",
        "        for _ in range(position-1):\n",
        "            if current_node is None:\n",
        "                print(\"position is out of range\")\n",
        "                return\n",
        "            current_node=current_node.next\n",
        "        if current_node is None or current_node.next is None:\n",
        "            print(\"position is out of range\")\n",
        "            return\n",
        "        current_node.next=current_node.next.next\n",
        "    def print_list(self):\n",
        "        current_node=self.head\n",
        "        while current_node:\n",
        "            print(current_node.data,end=\" \")\n",
        "            current_node=current_node.next\n",
        "        print()\n",
        "#example usage:\n",
        "if __name__==\"__main__\":\n",
        "    linked_list=LinkedList()\n",
        "    #insert operations:\n",
        "    linked_list.append(0)\n",
        "    linked_list.append(1)\n",
        "    linked_list.append(3)\n",
        "    linked_list.append(5)\n",
        "    linked_list.insert_at_position(2,2)\n",
        "    print(\"linked list after insertion:\")\n",
        "    linked_list.print_list() #output:0 1 2 3 5\n",
        "    #deletion operation\n",
        "    linked_list.delete(3)\n",
        "    linked_list.delete_at_begining()\n",
        "    linked_list.delete_at_end()\n",
        "    linked_list.delete_at_position(1)\n",
        "    print(\"linked list after deletion:\")\n",
        "    linked_list.print_list()#output:1\n"
      ],
      "metadata": {
        "id": "MBsY4pVILPyd"
      },
      "execution_count": null,
      "outputs": []
    },
    {
      "cell_type": "markdown",
      "source": [
        "Output:\n",
        "\n",
        "linked list after insertion:\n",
        "\n",
        "0 1 2 3 5\n",
        "\n",
        "linked list after deletion:\n",
        "\n",
        "1"
      ],
      "metadata": {
        "id": "YkNkmUXgLdbS"
      }
    }
  ]
}