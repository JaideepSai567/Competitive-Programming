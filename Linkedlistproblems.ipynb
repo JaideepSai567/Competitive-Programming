{
  "nbformat": 4,
  "nbformat_minor": 0,
  "metadata": {
    "colab": {
      "provenance": [],
      "authorship_tag": "ABX9TyN4/5IpYy+4uSvqbVqp+T1b",
      "include_colab_link": true
    },
    "kernelspec": {
      "name": "python3",
      "display_name": "Python 3"
    },
    "language_info": {
      "name": "python"
    }
  },
  "cells": [
    {
      "cell_type": "markdown",
      "metadata": {
        "id": "view-in-github",
        "colab_type": "text"
      },
      "source": [
        "<a href=\"https://colab.research.google.com/github/JaideepSai567/Competitive-Programming/blob/main/Linkedlistproblems.ipynb\" target=\"_parent\"><img src=\"https://colab.research.google.com/assets/colab-badge.svg\" alt=\"Open In Colab\"/></a>"
      ]
    },
    {
      "cell_type": "code",
      "execution_count": null,
      "metadata": {
        "colab": {
          "base_uri": "https://localhost:8080/",
          "height": 90
        },
        "id": "pG4IItZip3pQ",
        "outputId": "ce37ede6-98e7-4099-c636-b413c890a5f6"
      },
      "outputs": [
        {
          "output_type": "stream",
          "name": "stdout",
          "text": [
            "Firts list : "
          ]
        },
        {
          "output_type": "display_data",
          "data": {
            "text/plain": [
              "<__main__.Node at 0x7be50c866bc0>"
            ]
          },
          "metadata": {}
        },
        {
          "output_type": "stream",
          "name": "stdout",
          "text": [
            "Second list : "
          ]
        },
        {
          "output_type": "display_data",
          "data": {
            "text/plain": [
              "<__main__.Node at 0x7be50c1a6ec0>"
            ]
          },
          "metadata": {}
        }
      ],
      "source": [
        "class Node:\n",
        "  def __init__(self,data):\n",
        "    self.data=data\n",
        "    self.next=next\n",
        "def insert(root,item):\n",
        "  temp=Node(item)\n",
        "  temp.data=item\n",
        "  temp.next=None\n",
        "  if root==None:\n",
        "    root=temp\n",
        "  else:\n",
        "    ptr=root\n",
        "    while ptr.next != None:\n",
        "      ptr=ptr.next\n",
        "    ptr.next = temp\n",
        "  return root\n",
        "def newList(root1,root2):\n",
        "  ptr1=root1\n",
        "  ptr2=root2\n",
        "  root=None\n",
        "  while ptr1!= None:\n",
        "    temp = Node(0)\n",
        "    temp.next = None\n",
        "    if ptr1.data < ptr2.data:\n",
        "      temp.data = ptr2.data\n",
        "    else:\n",
        "      temp.data = ptr1.data\n",
        "    if root==None:\n",
        "      root=temp\n",
        "    else:\n",
        "      ptr=root\n",
        "      while ptr.next != None:\n",
        "        ptr=ptr.next\n",
        "      ptr.next = temp\n",
        "    ptr1=ptr1.next\n",
        "    ptr2=ptr2.next\n",
        "  return root\n",
        "def Display(root):\n",
        "  while root!=None:\n",
        "    print(root.data,end=\"->\")\n",
        "    root=root.next\n",
        "  print(\"None\")\n",
        "\n",
        "root1=None\n",
        "root2=None\n",
        "root=None\n",
        "\n",
        "root1 = insert(root1,5)\n",
        "root1 = insert(root1,2)\n",
        "root1 = insert(root1,3)\n",
        "root1 = insert(root1,8)\n",
        "\n",
        "print(\"Firts list :\",end=\" \")\n",
        "display(root1)\n",
        "type(root1)\n",
        "root2 = insert(root2,7)\n",
        "root2 = insert(root2,4)\n",
        "root2 = insert(root2,6)\n",
        "root2 = insert(root2,1)\n",
        "\n",
        "print(\"Second list :\",end=\" \")\n",
        "display(root2)\n",
        "\n"
      ]
    },
    {
      "cell_type": "markdown",
      "source": [
        "given a linked list. reverse every k nodes where k is input function."
      ],
      "metadata": {
        "id": "0u36OsYdxqd-"
      }
    },
    {
      "cell_type": "code",
      "source": [
        "class Node:\n",
        "  def __init__(self,val):\n",
        "    self.val=val\n",
        "    self.next=next\n",
        "def insertNode(head,val):\n",
        "  newNode=Node(val)\n",
        "  if head==None:\n",
        "    head=newNode\n",
        "    return head\n",
        "  temp=head\n",
        "  while temp.next!=None:\n",
        "    temp=temp.next\n",
        "  temp.next=newNode\n",
        "  return head\n",
        "\n",
        "def lengthOfLinkedList(head):\n",
        "  length=0\n",
        "  while head!=None:\n",
        "    length+=1\n",
        "    head=head.next\n",
        "  return length\n",
        "def reverseKNodes(head,k):\n",
        "  if head==None or head.next==None:\n",
        "    reyurn head\n",
        "  length = lenghtOfLinkedList(head)\n",
        "  dummyhead=Node(0)\n",
        "  dummyhead.next=head\n",
        "  pre=dummyhead\n",
        "  cur=None\n",
        "  nxt=None\n",
        "  while length>=k:\n",
        "    cur=pre.next\n",
        "    nxt=curr.next\n",
        "    for i in range(1,k):\n",
        "      curr.next=nxt.next\n",
        "      nxt.next=pre.next\n",
        "      pre.next=nex\n",
        "      nxt=curr.next\n",
        "    pre=cur\n",
        "    length-=k\n",
        "  return dummyhead.next\n",
        "def printLinkedList(head):\n",
        "  while head.next!=None:\n",
        "    print(head.val,end=\"->\")\n",
        "    head=head.next\n",
        "  print(head.val)\n",
        "if __name__==\"__main__\":\n",
        "  head=None\n",
        "  k=3\n",
        "  head=insertNode(head,1)\n",
        "  head=insertNode(head,2)\n",
        "  head=insertNode(head,3)\n",
        "  head=insertNode(head,4)\n",
        "  head=insertNode(head,5)\n",
        "  head=insertNode(head,16)\n",
        "  head=insertNode(head,7)\n",
        "  head=insertNode(head,8)\n",
        "\n",
        "  print(\"Original linked list :\",end=\"\")\n",
        "  printLinkedList(head)\n",
        "  print(\"After reversal of k nodes\",end=\"\")\n",
        "  newhwad=reverseKNodes(head)\n"
      ],
      "metadata": {
        "id": "_v9lu4x_x3Qz",
        "colab": {
          "base_uri": "https://localhost:8080/",
          "height": 106
        },
        "outputId": "d51583aa-b739-4920-cb2e-00d7ca426c5f"
      },
      "execution_count": 1,
      "outputs": [
        {
          "output_type": "error",
          "ename": "SyntaxError",
          "evalue": "invalid syntax (<ipython-input-1-0e7f09ad52a9>, line 24)",
          "traceback": [
            "\u001b[0;36m  File \u001b[0;32m\"<ipython-input-1-0e7f09ad52a9>\"\u001b[0;36m, line \u001b[0;32m24\u001b[0m\n\u001b[0;31m    reyurn head\u001b[0m\n\u001b[0m           ^\u001b[0m\n\u001b[0;31mSyntaxError\u001b[0m\u001b[0;31m:\u001b[0m invalid syntax\n"
          ]
        }
      ]
    }
  ]
}